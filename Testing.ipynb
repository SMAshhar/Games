{
 "metadata": {
  "language_info": {
   "codemirror_mode": {
    "name": "ipython",
    "version": 3
   },
   "file_extension": ".py",
   "mimetype": "text/x-python",
   "name": "python",
   "nbconvert_exporter": "python",
   "pygments_lexer": "ipython3",
   "version": 3
  },
  "orig_nbformat": 2,
  "kernelspec": {
   "name": "python_defaultSpec_1597680378711",
   "display_name": "Python 3.7.6 64-bit ('base': conda)"
  }
 },
 "nbformat": 4,
 "nbformat_minor": 2,
 "cells": [
  {
   "cell_type": "code",
   "execution_count": 1,
   "metadata": {},
   "outputs": [],
   "source": [
    "# def login():\n",
    "#     name = input(\"Username : \")\n",
    "#     password = input(\"Password : \")\n",
    "#     try:\n",
    "#         with open(name, \"r+\") as f:\n",
    "#             points = f.read()\n",
    "#             print(points)\n",
    "#     except:\n",
    "#         print(\"User not registered yet\")\n",
    "    \n",
    "# login()\n",
    "# x = input(\"Enter Username\")\n",
    "\n",
    "    # for a in check:\n",
    "    #     if a == x:\n",
    "    #         print(\"Name taken\")\n",
    "    #     else:\n",
    "    #         print(\"Name availab4le\")\n",
    "    #         break"
   ]
  },
  {
   "cell_type": "code",
   "execution_count": 25,
   "metadata": {
    "tags": []
   },
   "outputs": [],
   "source": [
    "# with open(\"register.txt\", \"a\") as f:\n",
    "#     f.write(\"\\nAshhar\")\n"
   ]
  },
  {
   "cell_type": "code",
   "execution_count": 26,
   "metadata": {
    "tags": []
   },
   "outputs": [],
   "source": [
    "# with open(\"register.txt\", \"r\") as f:\n",
    "#     check = f.read()\n",
    "#     print(check)"
   ]
  },
  {
   "cell_type": "code",
   "execution_count": 29,
   "metadata": {},
   "outputs": [],
   "source": [
    "# b = {\"Ashhar\" : \"Einstien1\"}\n",
    "# with open(\"register.json\", \"w+\") as f:\n",
    "#     f.write('{\"Ashhar\" : \"Einstien1\"}')\n",
    "#     f.seek(0)\n",
    "#     check = f.read()\n",
    "    \n",
    "#     a = \"Ashhar\"\n",
    "#     if a in check.keys():\n",
    "#        print(\"User already there\")"
   ]
  },
  {
   "cell_type": "code",
   "execution_count": 31,
   "metadata": {},
   "outputs": [
    {
     "output_type": "execute_result",
     "data": {
      "text/plain": "'8/22'"
     },
     "metadata": {},
     "execution_count": 31
    }
   ],
   "source": [
    "def printer_error(s):\n",
    "    length = str(len(s))\n",
    "    count = 0\n",
    "    x = ['a', 'b', 'c', 'd', 'e', 'f', 'g', 'h', 'i', 'j', 'k', 'l' ,'m', 'n']\n",
    "    for a in s:\n",
    "        if not a in x:\n",
    "            count += 1\n",
    "    count = str(count)\n",
    "    return count + \"/\" + length\n",
    "printer_error(\"aaaxbbbbyyhwawiwjjjwwm\")"
   ]
  },
  {
   "cell_type": "code",
   "execution_count": 35,
   "metadata": {},
   "outputs": [
    {
     "output_type": "execute_result",
     "data": {
      "text/plain": "'10/18'"
     },
     "metadata": {},
     "execution_count": 35
    }
   ],
   "source": [
    "def x(s):\n",
    "    return str(len([x for x in s if x not in \"abcdefghijklm\"])) +\"/\"+str(len(s))\n",
    "x(\"Notanicethingtosay\")"
   ]
  },
  {
   "cell_type": "code",
   "execution_count": 6,
   "metadata": {},
   "outputs": [],
   "source": [
    "def comp(array1, array2):\n",
    "    print(array1, array2)\n",
    "    # if array1 == None or array2 == None:\n",
    "        # return False\n",
    "    for b in array1:\n",
    "        if b**2 not in array2:\n",
    "            print(\"B**2 not available\")\n",
    "            return False\n",
    "    for a in array2:\n",
    "        if a**(1/2) not in array1 and -a**(1/2) not in array1:\n",
    "            print(\"A**(1/2) not avalable\")\n",
    "            return False\n",
    "    else:\n",
    "        return True"
   ]
  },
  {
   "cell_type": "code",
   "execution_count": 7,
   "metadata": {
    "tags": []
   },
   "outputs": [
    {
     "output_type": "stream",
     "name": "stdout",
     "text": "[-121, -144, 19, -161, 19, -144, 19, -11] [121, 14641, 20736, 361, 25921, 361, 20736, 361]\n"
    },
    {
     "output_type": "execute_result",
     "data": {
      "text/plain": "True"
     },
     "metadata": {},
     "execution_count": 7
    }
   ],
   "source": [
    "comp([-121, -144, 19, -161, 19, -144, 19, -11], [121, 14641, 20736, 361, 25921, 361, 20736, 361])"
   ]
  },
  {
   "cell_type": "code",
   "execution_count": 13,
   "metadata": {},
   "outputs": [
    {
     "output_type": "execute_result",
     "data": {
      "text/plain": "10"
     },
     "metadata": {},
     "execution_count": 13
    }
   ],
   "source": [
    "def fee(age, school):\n",
    "    reate = 0\n",
    "    if age <= 5 and school == True:\n",
    "        rate = 10\n",
    "    elif age >= 5 and school == False:\n",
    "        if age <= 17:\n",
    "            rate = 20\n",
    "    else:\n",
    "        rate = 50\n",
    "    return rate\n",
    "fee(2, True)"
   ]
  },
  {
   "cell_type": "code",
   "execution_count": null,
   "metadata": {},
   "outputs": [],
   "source": []
  }
 ]
}